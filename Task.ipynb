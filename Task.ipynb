{
 "cells": [
  {
   "cell_type": "code",
   "execution_count": 2,
   "id": "fd728d20",
   "metadata": {},
   "outputs": [
    {
     "name": "stdout",
     "output_type": "stream",
     "text": [
      "             2023-06-17  2023-06-24  2023-07-01  2023-07-08  2023-07-15  \\\n",
      "Item Number                                                               \n",
      "064-01-0003           0           0           0           0           0   \n",
      "064-01-0005           0           0           0           0           0   \n",
      "064-01-0006          10          10          10          10          10   \n",
      "064-01-0012           0           0           0           0           0   \n",
      "064-01-0013           0           0           0           0           0   \n",
      "...                 ...         ...         ...         ...         ...   \n",
      "064-18-9884       12419       12419       12419       12419       12419   \n",
      "064-18-9904           0           0           0           0           0   \n",
      "064-18-9909          12          12          12          12          12   \n",
      "064-18-9938        2736        2736        2736        5500        5500   \n",
      "064-18-9962          19          19          19          19          19   \n",
      "\n",
      "             2023-07-22  2023-07-29  2023-08-05  2023-08-12  2023-08-19  ...  \\\n",
      "Item Number                                                              ...   \n",
      "064-01-0003           0           0           0           0           0  ...   \n",
      "064-01-0005           0           0           0           0           0  ...   \n",
      "064-01-0006          10          10          10          10          10  ...   \n",
      "064-01-0012           0           0           0           0           0  ...   \n",
      "064-01-0013           0           0           0           0           0  ...   \n",
      "...                 ...         ...         ...         ...         ...  ...   \n",
      "064-18-9884       12419       12419       12419       12419       12419  ...   \n",
      "064-18-9904           0           0           0           0           0  ...   \n",
      "064-18-9909          12          12          12          12          12  ...   \n",
      "064-18-9938        8696       10064       10064       12148       12148  ...   \n",
      "064-18-9962          19          19          19          19          19  ...   \n",
      "\n",
      "             2023-10-14  2023-10-21  2023-10-28  2023-11-04  2023-11-11  \\\n",
      "Item Number                                                               \n",
      "064-01-0003        7352        7352        7352        7352        7352   \n",
      "064-01-0005        9900        9900        9900        9900        9900   \n",
      "064-01-0006          10          10          10          10          10   \n",
      "064-01-0012       10084       10084       10084       10084       10084   \n",
      "064-01-0013        8048        8048        8048        8048        8048   \n",
      "...                 ...         ...         ...         ...         ...   \n",
      "064-18-9884       12419       12419       12419       12419       12419   \n",
      "064-18-9904           0           0           0           0           0   \n",
      "064-18-9909          12          12          12          12          12   \n",
      "064-18-9938       18184       18184       18184       18184       18184   \n",
      "064-18-9962          19          19          19          19          19   \n",
      "\n",
      "             2023-11-18  2023-11-25  2023-12-02  2023-12-09  2023-12-16  \n",
      "Item Number                                                              \n",
      "064-01-0003        7352        7352        7352        7352        7352  \n",
      "064-01-0005        9900        9900        9900        9900        9900  \n",
      "064-01-0006          10          10          10          10          10  \n",
      "064-01-0012       10084       10084       10084       10084       10084  \n",
      "064-01-0013        8048        8048        8048        8048        8048  \n",
      "...                 ...         ...         ...         ...         ...  \n",
      "064-18-9884       12419       12419       12419       12419       12419  \n",
      "064-18-9904           0       18700       18700       23800       23800  \n",
      "064-18-9909          12          12          12          12          12  \n",
      "064-18-9938       18184       18184       18184       18184       18184  \n",
      "064-18-9962          19          19          19          19          19  \n",
      "\n",
      "[403 rows x 27 columns]\n"
     ]
    }
   ],
   "source": [
    "import pandas as pd\n",
    "import matplotlib.pyplot as plt\n",
    "\n",
    "\n",
    "# Read the existing inventory dataset\n",
    "inventory_df = pd.read_excel(\"Inventory Dataset.xlsx\")\n",
    "\n",
    "# Read the new inventory dataset\n",
    "new_inventory_df = pd.read_excel(\"New Inventory.xlsx\")\n",
    "\n",
    "# Concatenate the datasets\n",
    "result_df = pd.concat([inventory_df, new_inventory_df.rename(\n",
    "    columns={'Inventory Receive': 'Date', 'Total Item Qty': 'Inventory'})], ignore_index=True)\n",
    "\n",
    "# Convert 'Date' column to datetime type\n",
    "result_df['Date'] = pd.to_datetime(result_df['Date'])\n",
    "\n",
    "# Create a 'Week' column for grouping\n",
    "result_df['Week'] = result_df['Date'] - pd.to_timedelta(result_df['Date'].sub(result_df['Date'].min()).dt.days % 7, unit='d')\n",
    "\n",
    "# Pivot the DataFrame to get weekly columns\n",
    "pivot_df = result_df.pivot_table(index='Item Number', columns='Week', values='Inventory', aggfunc='sum', fill_value=0)\n",
    "\n",
    "\n",
    "# Reindex the DataFrame to include all dates in the date_range\n",
    "date_range = pd.date_range(start=result_df['Date'].min(), end=result_df['Date'].max() + pd.DateOffset(weeks=1), freq='7D')\n",
    "pivot_df = pivot_df.reindex(columns=date_range, fill_value=0)\n",
    "\n",
    "# Calculate the cumulative sum\n",
    "cumulative_df = pivot_df.cumsum(axis=1)\n",
    "\n",
    "# Display the result\n",
    "print(cumulative_df)"
   ]
  },
  {
   "cell_type": "code",
   "execution_count": 7,
   "id": "d3ad78f0",
   "metadata": {},
   "outputs": [
    {
     "name": "stdout",
     "output_type": "stream",
     "text": [
      "Data has been saved to 'output.xlsx'\n"
     ]
    }
   ],
   "source": [
    "cumulative_df.to_excel('output.xlsx', sheet_name='Sheet1')\n",
    "\n",
    "# Display a message indicating that the data has been saved\n",
    "print(\"Data has been saved to 'output.xlsx'\")"
   ]
  },
  {
   "cell_type": "code",
   "execution_count": 6,
   "id": "ef1e745e",
   "metadata": {},
   "outputs": [
    {
     "data": {
      "image/png": "[encoded data removed]",
      "text/plain": [
       "<Figure size 640x480 with 1 Axes>"
      ]
     },
     "metadata": {},
     "output_type": "display_data"
    }
   ],
   "source": [
    "# Group by month and sum the inventory\n",
    "monthly_inventory = result_df.groupby(result_df['Date'].dt.to_period(\"M\"))['Inventory'].sum()\n",
    "\n",
    "# Plot the bar chart\n",
    "plt.bar(monthly_inventory.index.astype(str), monthly_inventory)\n",
    "plt.xlabel('Month')\n",
    "plt.ylabel('Total Inventory')\n",
    "plt.title('Total Monthly Inventory Levels')\n",
    "plt.show()"
   ]
  },
  {
   "cell_type": "code",
   "execution_count": null,
   "id": "3c626ba3",
   "metadata": {},
   "outputs": [],
   "source": []
  }
 ],
 "metadata": {
  "kernelspec": {
   "display_name": "Python 3 (ipykernel)",
   "language": "python",
   "name": "python3"
  },
  "language_info": {
   "codemirror_mode": {
    "name": "ipython",
    "version": 3
   },
   "file_extension": ".py",
   "mimetype": "text/x-python",
   "name": "python",
   "nbconvert_exporter": "python",
   "pygments_lexer": "ipython3",
   "version": "3.9.13"
  }
 },
 "nbformat": 4,
 "nbformat_minor": 5
}
